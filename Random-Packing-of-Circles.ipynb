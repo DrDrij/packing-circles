{
  "nbformat": 4,
  "nbformat_minor": 0,
  "metadata": {
    "colab": {
      "name": "Untitled0.ipynb",
      "version": "0.3.2",
      "provenance": []
    },
    "kernelspec": {
      "name": "python3",
      "display_name": "Python 3"
    }
  },
  "cells": [
    {
      "metadata": {
        "id": "-tdQVT72-aYL",
        "colab_type": "text"
      },
      "cell_type": "markdown",
      "source": [
        "# Simulation for random packing of circles"
      ]
    },
    {
      "metadata": {
        "id": "4dwoAC09-gdV",
        "colab_type": "code",
        "colab": {}
      },
      "cell_type": "code",
      "source": [
        "# Here we just compute the feasible points\n",
        "from numpy.random import choice\n",
        "from numpy import logical_and, logical_or, arange, arcsin, pi, array\n",
        "def circles(r=1.0, M=101):\n",
        "    # generate random circle packing\n",
        "    gamma=arcsin(r/(1+r))/pi\n",
        "    feasible  = arange(M)\n",
        "    # first circle\n",
        "    XV = [0]     #  XV = vector of point indices\n",
        "    FV = [M-1]   #  FV = vector of count of feasible points\n",
        "    feasible = feasible[logical_and(feasible >= gamma*(M-1),feasible <= (1-gamma)*(M-1))]\n",
        "    FV.append(len(feasible))\n",
        "    # other circles\n",
        "    while True:\n",
        "        if len(feasible) == 0: break  # stop when no more feasible points\n",
        "        X = choice(feasible)  # select random element of feasible set\n",
        "        XV.append(X)\n",
        "        feasible = feasible[logical_or(feasible<=X-gamma*(M-1), feasible>=X+gamma*(M-1))] # up\n",
        "        FV.append(len(feasible))\n",
        "    return array(XV), array(FV)\n",
        "r = 0.4\n",
        "XV, FV = circles(r)\n",
        "print(XV/(M-1.0))\n",
        "print(FV)"
      ],
      "execution_count": 0,
      "outputs": []
    },
    {
      "metadata": {
        "id": "9lAARhi8-tgJ",
        "colab_type": "text"
      },
      "cell_type": "markdown",
      "source": [
        "**Plotting the circles**"
      ]
    },
    {
      "metadata": {
        "id": "4R_Bfotf-wS4",
        "colab_type": "code",
        "colab": {}
      },
      "cell_type": "code",
      "source": [
        "# plot the circles\n",
        "from pylab import plot, axis, show\n",
        "from numpy.random import choice\n",
        "from numpy import sin, cos, pi\n",
        "%matplotlib inline\n",
        "theta = linspace(0,2*pi, M)\n",
        "def drawcircle(cx, cy, clr, r=1.0):\n",
        "    # draw a circle with color clr, radius r and centre (cx, cy)\n",
        "    plot(cx+r*cos(theta), cy+r*sin(theta), clr)\n",
        "# draw inner circle\n",
        "drawcircle(0,0,'black')\n",
        "axis('square'); axis([-(1+2*r), 1+2*r, -(1+2*r), 1+2*r])\n",
        "plot((1+r)*cos(theta),(1+r)*sin(theta),'--')\n",
        "axis('equal')\n",
        "for X in XV:\n",
        "    B = 2*pi*X/(M-1)\n",
        "    drawcircle((1+r)*cos(B),(1+r)*sin(B), 'green', r)\n",
        "show();"
      ],
      "execution_count": 0,
      "outputs": []
    },
    {
      "metadata": {
        "id": "NDgixm41-0LJ",
        "colab_type": "text"
      },
      "cell_type": "markdown",
      "source": [
        "**Distribution of numbers of feasible points**"
      ]
    },
    {
      "metadata": {
        "id": "6UlMRAL9-43v",
        "colab_type": "code",
        "colab": {}
      },
      "cell_type": "code",
      "source": [
        "# multiple simulations\n",
        "from numpy import zeros\n",
        "r = 0.4\n",
        "gamma=arcsin(r/(1+r))/pi\n",
        "N = int(round(1/gamma))\n",
        "n = 100\n",
        "FS = zeros(N)\n",
        "FC = zeros(N)\n",
        "for i in range(n):\n",
        "    _, FV = circles(r)\n",
        "    FS[:len(FV[:-1])] += FV[:-1]\n",
        "    FC[:len(FV[:-1])] += 1\n",
        "    plot(FV,'.')\n",
        "FM = FS/(FC+1e-9)  # mean\n",
        "plot(FM)"
      ],
      "execution_count": 0,
      "outputs": []
    }
  ]
}